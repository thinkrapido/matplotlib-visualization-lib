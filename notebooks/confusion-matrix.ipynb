{
 "cells": [
  {
   "cell_type": "code",
   "execution_count": 103,
   "id": "253fba08-8687-4255-877f-0c9c0839c1f7",
   "metadata": {},
   "outputs": [
    {
     "name": "stdout",
     "output_type": "stream",
     "text": [
      "The autoreload extension is already loaded. To reload it, use:\n",
      "  %reload_ext autoreload\n"
     ]
    }
   ],
   "source": [
    "%load_ext autoreload\n",
    "%autoreload 2\n",
    "import utils; utils.setup()"
   ]
  },
  {
   "cell_type": "code",
   "execution_count": 104,
   "id": "3bedf87a-9558-4547-9f10-0c460104a37e",
   "metadata": {},
   "outputs": [],
   "source": [
    "import numpy as np\n",
    "\n",
    "import evaluation\n",
    "import data"
   ]
  },
  {
   "cell_type": "code",
   "execution_count": 105,
   "id": "b8375422",
   "metadata": {},
   "outputs": [],
   "source": [
    "from pathlib import Path\n",
    "project_root = Path().resolve().parent\n",
    "\n",
    "intervals = data.intervals\n"
   ]
  },
  {
   "cell_type": "code",
   "execution_count": 106,
   "id": "8c27673d-8a8a-45c0-98b3-d83e94898748",
   "metadata": {},
   "outputs": [],
   "source": [
    "raw_interval = '15m'\n",
    "interval = '1h'\n",
    "\n",
    "raw_data_1min = data.load_symbol('solusdt', dir=project_root, interval=raw_interval)\n"
   ]
  },
  {
   "cell_type": "code",
   "execution_count": 109,
   "id": "36754301",
   "metadata": {},
   "outputs": [],
   "source": [
    "df = data.set_interval(raw_data_1min, intervals[interval])"
   ]
  },
  {
   "cell_type": "code",
   "execution_count": 108,
   "id": "c5617b01",
   "metadata": {},
   "outputs": [
    {
     "data": {
      "text/plain": [
       "TP    1508\n",
       "FP       0\n",
       "FN    5262\n",
       "TN       0\n",
       "dtype: int64"
      ]
     },
     "execution_count": 108,
     "metadata": {},
     "output_type": "execute_result"
    }
   ],
   "source": [
    "gain_threshold = 0.02\n",
    "periods = 8\n",
    "\n",
    "def indicator(df, date: np.datetime64):\n",
    "    hit = True\n",
    "    return evaluation.Prediction(date=date, state='valid', hit=hit)\n",
    "\n",
    "evaluation.confusion_matrix(df, gain_threshold=gain_threshold, periods=periods, indicator=indicator)"
   ]
  }
 ],
 "metadata": {
  "kernelspec": {
   "display_name": "Python 3 (ipykernel)",
   "language": "python",
   "name": "python3"
  },
  "language_info": {
   "codemirror_mode": {
    "name": "ipython",
    "version": 3
   },
   "file_extension": ".py",
   "mimetype": "text/x-python",
   "name": "python",
   "nbconvert_exporter": "python",
   "pygments_lexer": "ipython3",
   "version": "3.10.12"
  }
 },
 "nbformat": 4,
 "nbformat_minor": 5
}
