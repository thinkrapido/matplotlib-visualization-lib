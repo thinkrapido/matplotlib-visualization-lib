{
 "cells": [
  {
   "cell_type": "code",
   "execution_count": 3,
   "id": "253fba08-8687-4255-877f-0c9c0839c1f7",
   "metadata": {},
   "outputs": [],
   "source": [
    "%load_ext autoreload\n",
    "%autoreload 2\n",
    "import utils; utils.setup()"
   ]
  },
  {
   "cell_type": "code",
   "execution_count": 4,
   "id": "3bedf87a-9558-4547-9f10-0c460104a37e",
   "metadata": {},
   "outputs": [],
   "source": [
    "import numpy as np\n",
    "import pandas as pd\n",
    "import matplotlib.pyplot as plt\n",
    "import mplfinance as mpf\n",
    "import seaborn as sns\n",
    "\n",
    "import visualization\n",
    "import data"
   ]
  },
  {
   "cell_type": "code",
   "execution_count": 5,
   "id": "1f74217b",
   "metadata": {},
   "outputs": [],
   "source": [
    "def perc(n, m = None):\n",
    "    p = n / m if m else n\n",
    "    p = p * 1000\n",
    "    p = int(p)\n",
    "    p = p / 10\n",
    "    return p\n"
   ]
  },
  {
   "cell_type": "code",
   "execution_count": 6,
   "id": "b8375422",
   "metadata": {},
   "outputs": [],
   "source": [
    "from pathlib import Path\n",
    "project_root = Path().resolve().parent\n",
    "\n",
    "intervals = {\n",
    "    '15m': '15min',\n",
    "    '4h':  '4H',\n",
    "    '1h':  'H',\n",
    "    '1d':  'D',\n",
    "}\n",
    "\n"
   ]
  },
  {
   "cell_type": "code",
   "execution_count": 8,
   "id": "8c27673d-8a8a-45c0-98b3-d83e94898748",
   "metadata": {},
   "outputs": [],
   "source": [
    "raw_interval = '15m'\n",
    "interval = '1h'\n",
    "\n",
    "raw_data_1min = data.load_symbol('solusdt', dir=project_root, interval=raw_interval)\n"
   ]
  },
  {
   "cell_type": "code",
   "execution_count": 9,
   "id": "36754301",
   "metadata": {},
   "outputs": [
    {
     "name": "stderr",
     "output_type": "stream",
     "text": [
      "/home/jbc/Work/indi/matplotlib-visualization-lib/src/data/__init__.py:38: FutureWarning: 'H' is deprecated and will be removed in a future version, please use 'h' instead.\n",
      "  grouper = df.groupby(pd.Grouper(level='timestamp_nanos', freq=freq))\n"
     ]
    }
   ],
   "source": [
    "df = data.set_interval(raw_data_1min, intervals[interval])\n",
    "samples = df.shape[0]"
   ]
  },
  {
   "cell_type": "code",
   "execution_count": 11,
   "id": "c5617b01",
   "metadata": {},
   "outputs": [],
   "source": [
    "periods = 8\n",
    "\n",
    "close = df['close'].to_numpy()[:-periods]\n",
    "close = close * np.ones((periods, len(close)))\n",
    "close = close.T\n",
    "\n",
    "rolling = {\n",
    "    'high': (pd.DataFrame([window.to_list() for window in df['high'].rolling(periods)], index=df.index).dropna()[1:] - close) / close,\n",
    "    'low':  (pd.DataFrame([window.to_list() for window in df['low'] .rolling(periods)], index=df.index).dropna()[1:] - close) / close,\n",
    "}"
   ]
  },
  {
   "cell_type": "code",
   "execution_count": 70,
   "id": "97f24727",
   "metadata": {},
   "outputs": [
    {
     "data": {
      "text/plain": [
       "timestamp_nanos\n",
       "2023-03-24 22:00:00    False\n",
       "2023-03-24 23:00:00    False\n",
       "2023-03-25 00:00:00    False\n",
       "2023-03-25 01:00:00    False\n",
       "2023-03-25 02:00:00    False\n",
       "                       ...  \n",
       "2023-12-31 19:00:00    False\n",
       "2023-12-31 20:00:00    False\n",
       "2023-12-31 21:00:00    False\n",
       "2023-12-31 22:00:00    False\n",
       "2023-12-31 23:00:00    False\n",
       "Freq: h, Length: 6770, dtype: bool"
      ]
     },
     "execution_count": 70,
     "metadata": {},
     "output_type": "execute_result"
    }
   ],
   "source": [
    "gain_threshold = .02\n",
    "poi = (rolling['high'] > gain_threshold).any(axis=1)\n",
    "poi"
   ]
  },
  {
   "cell_type": "code",
   "execution_count": 81,
   "id": "d87415d0",
   "metadata": {},
   "outputs": [
    {
     "data": {
      "text/plain": [
       "TP    1508\n",
       "FP       0\n",
       "FN       0\n",
       "TN    5262\n",
       "dtype: int64"
      ]
     },
     "execution_count": 81,
     "metadata": {},
     "output_type": "execute_result"
    }
   ],
   "source": [
    "from dataclasses import dataclass\n",
    "\n",
    "@dataclass\n",
    "class Prediction:\n",
    "    date: np.datetime64\n",
    "    state: str\n",
    "    hit: bool\n",
    "\n",
    "    def value(self):\n",
    "        return self.hit if self.state == 'valid' else False\n",
    "    \n",
    "    def is_incomplete(self):\n",
    "        return self.state != 'incomplete'\n",
    "\n",
    "def indicator(df, date: np.datetime64):\n",
    "    hit = poi.loc[date]\n",
    "    #hit = True\n",
    "    return Prediction(date=date, state='valid', hit=hit)\n",
    "\n",
    "def prediction(df, indicator):\n",
    "    df = df.iloc[periods:]\n",
    "    predictions = [ indicator(df, index ) for index in df.index ]\n",
    "    return pd.Series([ p.value() for p in predictions ], index=df.index)\n",
    "\n",
    "goi = prediction(df, indicator=indicator)\n",
    "\n",
    "def confusion_matrix(poi, goi):\n",
    "    poi = poi.to_numpy()\n",
    "    goi = goi.to_numpy()\n",
    "    out = pd.DataFrame([(poi & goi), (poi & np.invert(goi)), (np.invert(poi) & goi), (np.invert(poi) & np.invert(goi))]).T\n",
    "    out.columns=['TP', 'FP', 'FN', 'TN']\n",
    "    out = out.sum()\n",
    "    return out\n",
    "confusion_matrix(poi, goi)\n"
   ]
  },
  {
   "cell_type": "code",
   "execution_count": null,
   "id": "717e3ba5",
   "metadata": {},
   "outputs": [],
   "source": []
  }
 ],
 "metadata": {
  "kernelspec": {
   "display_name": "Python 3 (ipykernel)",
   "language": "python",
   "name": "python3"
  },
  "language_info": {
   "codemirror_mode": {
    "name": "ipython",
    "version": 3
   },
   "file_extension": ".py",
   "mimetype": "text/x-python",
   "name": "python",
   "nbconvert_exporter": "python",
   "pygments_lexer": "ipython3",
   "version": "3.10.12"
  }
 },
 "nbformat": 4,
 "nbformat_minor": 5
}
